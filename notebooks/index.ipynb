{
 "cells": [
  {
   "cell_type": "markdown",
   "metadata": {},
   "source": [
    "# Exploring Surface Processes: How to Build Coupled Models\n",
    "\n",
    "## The Landlab Modeling Toolkit\n",
    "\n",
    "We will explore, through a series of Jupyter Notebooks, how to use the Landlab Toolkit to run and couple models built into this Python package.\n",
    "\n",
    "*  [Hillslope diffusion](hillslope_diffusion_class_notebook.ipynb)\n",
    "   * Create a Landlab model grid\n",
    "   * Instantiate and run a model component\n",
    "   * Model linear diffusion\n",
    "   * Compare analytical and model results\n",
    "\n",
    "*  [Couple hillslope and stream processes](diffusion_and_fluvial_incision.ipynb)\n",
    "   * Run multiple model components\n",
    "   * Evolve a landscape over time\n",
    "\n",
    "*  [Overland flow](overland_flow_driver.ipynb)\n",
    "   * Simulate overland flow\n",
    "\n",
    "*  [Coupled landscape-life evolution modeling](species_evolver.ipynb)\n",
    "   * Introduction to landscape connectivity and macroevolution\n",
    "   * Populate species to a model grid\n",
    "   * Evolve the species using the SpeciesEvolver component\n",
    "   * Example model: vegetation and climate change\n",
    "   * Examine species distribution with the new Landlab Profiler component\n",
    "\n",
    "## The Python Modeling Toolkit (*pymt*)\n",
    "\n",
    "We will explore, through a series of Jupyter Notebooks, how to use the Python Modeling Toolkit (*pymt*) to run and couple existing models.\n",
    "\n",
    "*  [Introduction to *pymt*](intro.ipynb)\n",
    "   * Why use *pymt*?\n",
    "   * The *pymt* library of models\n",
    "   * Setting up a model simulation\n",
    "   * Initialize, run, finalize (IRF)\n",
    "   * Getting data out of a model\n",
    "\n",
    "*  [Run a standalone model in *pymt*](hydrotrend.ipynb)\n",
    "   * Introduction to Hydrotrend\n",
    "   * Setup, run, analyze\n",
    "   * Adjust for a changing climate\n",
    "   * Adjust for human impact\n",
    "\n",
    "*  [Couple two models](cem_and_waves.ipynb)\n",
    "   * Introduction to CEM + Waves\n",
    "   * Set up a simulation\n",
    "   * Getters and setters\n",
    "   * Run\n",
    "   * Grids\n",
    "   * Plot and analyze output\n",
    "\n",
    "Additional notebooks:\n",
    "  * [Flexural Subsidence Model](subside.ipynb)   \n",
    "  * [ECSimpleSnow component](ecsimplesnow.ipynb)\n",
    "  * [Frost Number Model](frost_number.ipynb)\n",
    "  * [Kudryavtsev Model](ku.ipynb)\n"
   ]
  },
  {
   "cell_type": "code",
   "execution_count": null,
   "metadata": {},
   "outputs": [],
   "source": []
  }
 ],
 "metadata": {
  "kernelspec": {
   "display_name": "Python 3",
   "language": "python",
   "name": "python3"
  },
  "language_info": {
   "codemirror_mode": {
    "name": "ipython",
    "version": 3
   },
   "file_extension": ".py",
   "mimetype": "text/x-python",
   "name": "python",
   "nbconvert_exporter": "python",
   "pygments_lexer": "ipython3",
   "version": "3.7.5"
  }
 },
 "nbformat": 4,
 "nbformat_minor": 2
}
