{
 "cells": [
  {
   "cell_type": "markdown",
   "metadata": {},
   "source": [
    "# Exploring Surface Processes: How to Build Coupled Models\n",
    "\n",
    "## The Landlab Modeling Toolkit\n",
    "\n",
    "We will explore, through a series of Jupyter Notebooks, how to use the Landlab Toolkit to run and couple models built into this Python package.\n",
    "\n",
    "*  [Coupled landscape-life evolution modeling](species_evolver.ipynb)\n",
    "   * Landscape connectivity and macroevolution\n",
    "   * The Landlab SpeciesEvolver component\n",
    "   * Example model: vegetation and climate change\n",
    "\n",
    "## The Python Modeling Toolkit (*pymt*)\n",
    "\n",
    "We will explore, through a series of Jupyter Notebooks, how to use the Python Modeling Toolkit (*pymt*) to run and couple existing models.\n",
    "\n",
    "*  [Introduction to *pymt*](intro.ipynb)\n",
    "   * Why use *pymt*?\n",
    "   * The *pymt* library of models\n",
    "   * Setting up a model simulation\n",
    "   * Initialize, run, finalize (IRF)\n",
    "   * Getting data out of a model\n",
    "\n",
    "*  [Run a standalone model in *pymt*](hydrotrend.ipynb)\n",
    "   * Introduction to Hydrotrend\n",
    "   * Setup, run, analyze\n",
    "   * Adjust for a changing climate\n",
    "   * Adjust for human impact\n",
    "\n",
    "*  [Couple two models](cem_and_waves.ipynb)\n",
    "   * Introduction to CEM + Waves\n",
    "   * Set up a simulation\n",
    "   * Getters and setters\n",
    "   * Run\n",
    "   * Grids\n",
    "   * Plot and analyze output\n",
    "\n",
    "Additional notebooks:\n",
    "  * [Flexural Subsidence Model](subside.ipynb)   \n",
    "  * [ECSimpleSnow component](ecsimplesnow.ipynb)\n",
    "  * [Frost Number Model](frost_number.ipynb)\n",
    "  * [Kudryavtsev Model](ku.ipynb)\n"
   ]
  },
  {
   "cell_type": "code",
   "execution_count": null,
   "metadata": {},
   "outputs": [],
   "source": []
  }
 ],
 "metadata": {
  "kernelspec": {
   "display_name": "Python 3",
   "language": "python",
   "name": "python3"
  },
  "language_info": {
   "codemirror_mode": {
    "name": "ipython",
    "version": 3
   },
   "file_extension": ".py",
   "mimetype": "text/x-python",
   "name": "python",
   "nbconvert_exporter": "python",
   "pygments_lexer": "ipython3",
   "version": "3.7.5"
  }
 },
 "nbformat": 4,
 "nbformat_minor": 2
}
